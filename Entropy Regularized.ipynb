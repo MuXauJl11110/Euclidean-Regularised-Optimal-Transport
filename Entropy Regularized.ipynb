{
 "cells": [
  {
   "cell_type": "code",
   "execution_count": null,
   "id": "8d9b4442",
   "metadata": {},
   "outputs": [],
   "source": [
    "!wget https://github.com/sorki/python-mnist/blob/master/bin/mnist_get_data.sh\n",
    "!mnist_get_data.sh"
   ]
  },
  {
   "cell_type": "code",
   "execution_count": null,
   "id": "760ac773",
   "metadata": {},
   "outputs": [],
   "source": [
    "import os\n",
    "import pickle\n",
    "\n",
    "import numpy as np\n",
    "from mnist import MNIST\n",
    "from scipy.spatial.distance import cdist\n",
    "\n",
    "from methods import APDAGD, PrimalDualAAM, PrimalDualAAMLS, Sinkhorn\n",
    "from problems import EntropyRegularizedOTProblem"
   ]
  },
  {
   "cell_type": "code",
   "execution_count": null,
   "id": "fb2741c8",
   "metadata": {},
   "outputs": [],
   "source": [
    "# https://pypi.org/project/python-mnist\n",
    "mndata = MNIST('./data/')\n",
    "images, labels = mndata.load_training()"
   ]
  },
  {
   "cell_type": "code",
   "execution_count": null,
   "id": "6dc76d68",
   "metadata": {},
   "outputs": [],
   "source": [
    "n = len(images[0])\n",
    "m = int(np.sqrt(n))\n",
    "\n",
    "def mnist(eps, p, q):\n",
    "    p, q = np.float64(images[p]), np.float64(images[q])\n",
    "    p, q = p / sum(p), q / sum(q)\n",
    "    \n",
    "    p = (1-eps/8)*p + eps/(8*n)\n",
    "    q = (1-eps/8)*q + eps/(8*n)\n",
    "    \n",
    "    return p, q\n",
    "\n",
    "def cartesian_product(*arrays):\n",
    "    la = len(arrays)\n",
    "    dtype = np.result_type(*arrays)\n",
    "    arr = np.empty([len(a) for a in arrays] + [la], dtype=dtype)\n",
    "    for i, a in enumerate(np.ix_(*arrays)):\n",
    "        arr[...,i] = a\n",
    "    return arr.reshape(-1, la)\n",
    "\n",
    "C = np.arange(m)\n",
    "C = cartesian_product(C, C)\n",
    "C = cdist(C, C)\n",
    "C /= np.max(C)\n",
    "C.max()"
   ]
  },
  {
   "cell_type": "code",
   "execution_count": null,
   "id": "dc0c28c8",
   "metadata": {},
   "outputs": [],
   "source": [
    "#experiments were done for\n",
    "p_list = [34860, 31226,   239, 37372, 17390]\n",
    "q_list = [45815, 35817, 43981, 54698, 49947]"
   ]
  },
  {
   "cell_type": "code",
   "execution_count": null,
   "id": "89b952d4",
   "metadata": {},
   "outputs": [],
   "source": [
    "x_array = np.linspace(1/2e-2, 1/4e-4, 6)\n",
    "epslist = 1/x_array\n",
    "epslist"
   ]
  },
  {
   "cell_type": "code",
   "execution_count": null,
   "id": "ef7adf6e",
   "metadata": {},
   "outputs": [],
   "source": [
    "p, q = mnist(epslist[0], p_list[0], q_list[0])\n",
    "p[:5], q[:5]"
   ]
  },
  {
   "cell_type": "code",
   "execution_count": null,
   "id": "c19305e6",
   "metadata": {},
   "outputs": [],
   "source": [
    "C[:5]"
   ]
  },
  {
   "cell_type": "code",
   "execution_count": null,
   "id": "6db5958c",
   "metadata": {},
   "outputs": [],
   "source": [
    "os.makedirs(\"reports/entropy_regularized\", exist_ok=True)"
   ]
  },
  {
   "cell_type": "markdown",
   "id": "d698f9dc",
   "metadata": {},
   "source": [
    "# Sinkhorn"
   ]
  },
  {
   "cell_type": "code",
   "execution_count": null,
   "id": "34077a1a",
   "metadata": {},
   "outputs": [],
   "source": [
    "for k in range(1):\n",
    "    for eps in epslist[:1]:\n",
    "        epsp = eps / 8\n",
    "        p, q = mnist(epsp, p_list[k], q_list[k])\n",
    "        gamma = eps / 4 / np.log(n)\n",
    "        entr_reg = EntropyRegularizedOTProblem(gamma, n, C, p, q)\n",
    "        lamu = np.zeros(2 * n)\n",
    "        x, history = Sinkhorn(epsp / 2, log=True).fit(entr_reg, lamu)\n",
    "        with open(f\"reports/entropy_regularized/sinkhorn_{eps}.pkl\", \"wb\") as f:\n",
    "            pickle.dump(history, f)"
   ]
  },
  {
   "cell_type": "markdown",
   "id": "6d73b201",
   "metadata": {},
   "source": [
    "# APDAGD"
   ]
  },
  {
   "cell_type": "code",
   "execution_count": null,
   "id": "4cdb03bb",
   "metadata": {},
   "outputs": [],
   "source": [
    "for k in range(1):\n",
    "    for eps in epslist[:1]:\n",
    "        p, q = mnist(0, p_list[k], q_list[k])\n",
    "        gamma = eps / 3 / np.log(n)\n",
    "        entr_reg = EntropyRegularizedOTProblem(gamma, n, C, p, q)\n",
    "        x, history = APDAGD(eps / 6, log=True).fit(entr_reg)\n",
    "        with open(f\"reports/entropy_regularized/apdagd_{eps}.pkl\", \"wb\") as f:\n",
    "            pickle.dump(history, f)"
   ]
  },
  {
   "cell_type": "markdown",
   "id": "6813bed9",
   "metadata": {},
   "source": [
    "# PDAAM with line-search"
   ]
  },
  {
   "cell_type": "code",
   "execution_count": null,
   "id": "4c7b03ad",
   "metadata": {},
   "outputs": [],
   "source": [
    "for k in range(1):\n",
    "    for eps in epslist[:1]:\n",
    "        epsp = eps / 8\n",
    "        p, q = mnist(epsp, p_list[k], q_list[k])\n",
    "        gamma = eps / 3 / np.log(n)\n",
    "        entr_reg = EntropyRegularizedOTProblem(gamma, n, C, p, q)\n",
    "        x, history = PrimalDualAAMLS(eps / 6, log=True).fit(entr_reg)\n",
    "        with open(f\"reports/entropy_regularized/pdaam-ls_{eps}.pkl\", \"wb\") as f:\n",
    "            pickle.dump(history, f)"
   ]
  },
  {
   "cell_type": "markdown",
   "id": "9cf7c39f",
   "metadata": {},
   "source": [
    "# PDAAM"
   ]
  },
  {
   "cell_type": "code",
   "execution_count": null,
   "id": "526eee71",
   "metadata": {},
   "outputs": [],
   "source": [
    "for k in range(1):\n",
    "    for eps in epslist[:1]:\n",
    "        epsp = eps / 8\n",
    "        p, q = mnist(epsp, p_list[k], q_list[k])\n",
    "        gamma = eps / 3 / np.log(n)\n",
    "        entr_reg = EntropyRegularizedOTProblem(gamma, n, C, p, q)\n",
    "        x, history = PrimalDualAAM(eps / 6, log=True).fit(entr_reg)\n",
    "        with open(f\"reports/entropy_regularized/pdaam_{eps}.pkl\", \"wb\") as f:\n",
    "            pickle.dump(history, f)"
   ]
  }
 ],
 "metadata": {
  "kernelspec": {
   "display_name": "Python 3 (ipykernel)",
   "language": "python",
   "name": "python3"
  },
  "language_info": {
   "codemirror_mode": {
    "name": "ipython",
    "version": 3
   },
   "file_extension": ".py",
   "mimetype": "text/x-python",
   "name": "python",
   "nbconvert_exporter": "python",
   "pygments_lexer": "ipython3",
   "version": "3.9.6"
  }
 },
 "nbformat": 4,
 "nbformat_minor": 5
}
