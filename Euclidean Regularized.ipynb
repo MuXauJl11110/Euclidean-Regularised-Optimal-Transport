{
 "cells": [
  {
   "cell_type": "code",
   "execution_count": null,
   "id": "e1107e5b",
   "metadata": {},
   "outputs": [],
   "source": [
    "!wget https://github.com/sorki/python-mnist/blob/master/bin/mnist_get_data.sh\n",
    "!mnist_get_data.sh"
   ]
  },
  {
   "cell_type": "code",
   "execution_count": 1,
   "id": "8220373f",
   "metadata": {},
   "outputs": [],
   "source": [
    "import os\n",
    "import pickle\n",
    "\n",
    "import numpy as np\n",
    "from mnist import MNIST\n",
    "from scipy.spatial.distance import cdist\n",
    "\n",
    "from methods import APDAGD, CLVR, PrimalDualAAM, PrimalDualAAMLS, Sinkhorn\n",
    "from problems import EuclideanRegularizedOTProblem"
   ]
  },
  {
   "cell_type": "code",
   "execution_count": 2,
   "id": "f9ac6e1e",
   "metadata": {},
   "outputs": [],
   "source": [
    "# https://pypi.org/project/python-mnist\n",
    "mndata = MNIST('./data/')\n",
    "images, labels = mndata.load_training()"
   ]
  },
  {
   "cell_type": "code",
   "execution_count": 3,
   "id": "ac753e8e",
   "metadata": {},
   "outputs": [
    {
     "data": {
      "text/plain": [
       "1.0"
      ]
     },
     "execution_count": 3,
     "metadata": {},
     "output_type": "execute_result"
    }
   ],
   "source": [
    "n = len(images[0])\n",
    "m = int(np.sqrt(n))\n",
    "\n",
    "def mnist(eps, p, q):\n",
    "    p, q = np.float64(images[p]), np.float64(images[q])\n",
    "    p, q = p / sum(p), q / sum(q)\n",
    "    \n",
    "    p = (1-eps/8)*p + eps/(8*n)\n",
    "    q = (1-eps/8)*q + eps/(8*n)\n",
    "    \n",
    "    return p, q\n",
    "\n",
    "def cartesian_product(*arrays):\n",
    "    la = len(arrays)\n",
    "    dtype = np.result_type(*arrays)\n",
    "    arr = np.empty([len(a) for a in arrays] + [la], dtype=dtype)\n",
    "    for i, a in enumerate(np.ix_(*arrays)):\n",
    "        arr[...,i] = a\n",
    "    return arr.reshape(-1, la)\n",
    "\n",
    "C = np.arange(m)\n",
    "C = cartesian_product(C, C)\n",
    "C = cdist(C, C)\n",
    "C /= np.max(C)\n",
    "C.max()"
   ]
  },
  {
   "cell_type": "code",
   "execution_count": 4,
   "id": "8dfc11f3",
   "metadata": {},
   "outputs": [],
   "source": [
    "#experiments were done for\n",
    "p_list = [34860, 31226,   239, 37372, 17390]\n",
    "q_list = [45815, 35817, 43981, 54698, 49947]"
   ]
  },
  {
   "cell_type": "code",
   "execution_count": 5,
   "id": "6e5f7989",
   "metadata": {},
   "outputs": [],
   "source": [
    "x_array = np.linspace(1/2e-2, 1/4e-4, 6)\n",
    "epslist = 1/x_array"
   ]
  },
  {
   "cell_type": "code",
   "execution_count": 10,
   "id": "d2153b49",
   "metadata": {},
   "outputs": [
    {
     "data": {
      "text/plain": [
       "array([0.02      , 0.00185185, 0.00049751])"
      ]
     },
     "execution_count": 10,
     "metadata": {},
     "output_type": "execute_result"
    }
   ],
   "source": [
    "chosen_epslist = 1/x_array[[0, 1, 4]]\n",
    "chosen_epslist"
   ]
  },
  {
   "cell_type": "code",
   "execution_count": 6,
   "id": "b2053e61",
   "metadata": {},
   "outputs": [],
   "source": [
    "os.makedirs(\"reports/euclidean_regularized\", exist_ok=True)"
   ]
  },
  {
   "cell_type": "markdown",
   "id": "90326f11",
   "metadata": {},
   "source": [
    "# Sinkhorn"
   ]
  },
  {
   "cell_type": "code",
   "execution_count": null,
   "id": "aa35ef60",
   "metadata": {},
   "outputs": [],
   "source": [
    "lambda_ = np.zeros(n, dtype=np.float64)\n",
    "mu_ = np.zeros(n, dtype=np.float64)\n",
    "lamu = np.concatenate((lambda_, mu_), axis=0)"
   ]
  },
  {
   "cell_type": "code",
   "execution_count": null,
   "id": "9288dd3b",
   "metadata": {},
   "outputs": [],
   "source": [
    "for k in range(1):\n",
    "    for eps in epslist[:1]:\n",
    "        epsp = eps / 4\n",
    "        p, q = mnist(epsp, p_list[k], q_list[k])\n",
    "        gamma = eps / 2\n",
    "        eucl_reg = EuclideanRegularizedOTProblem(gamma, n, C, p, q)\n",
    "        x, history = Sinkhorn(epsp / 4, log=True).fit(eucl_reg, lamu)\n",
    "        with open(f\"reports/euclidean_regularized/sinkhorn_{eps}.pkl\", \"wb\") as f:\n",
    "            pickle.dump(history, f)"
   ]
  },
  {
   "cell_type": "markdown",
   "id": "202dc016",
   "metadata": {},
   "source": [
    "# APDAGD"
   ]
  },
  {
   "cell_type": "code",
   "execution_count": null,
   "id": "585c2c27",
   "metadata": {},
   "outputs": [],
   "source": [
    "for k in range(1):\n",
    "    for eps in epslist[:1]:\n",
    "        p, q = mnist(eps, p_list[k], q_list[k])\n",
    "        gamma = eps / 3\n",
    "        eucl_reg = EuclideanRegularizedOTProblem(gamma, n, C, p, q)\n",
    "        x, history = APDAGD(eps / 3, log=True).fit(eucl_reg)\n",
    "        with open(f\"reports/euclidean_regularized/apdagd_{eps}.pkl\", \"wb\") as f:\n",
    "            pickle.dump(history, f)"
   ]
  },
  {
   "cell_type": "markdown",
   "id": "1a540046",
   "metadata": {},
   "source": [
    "# PDAAM with line-search"
   ]
  },
  {
   "cell_type": "code",
   "execution_count": null,
   "id": "5e086c33",
   "metadata": {},
   "outputs": [],
   "source": [
    "for k in range(1):\n",
    "    for eps in epslist[:1]:\n",
    "        p, q = mnist(eps, p_list[k], q_list[k])\n",
    "        gamma = eps / 3\n",
    "        eucl_reg = EuclideanRegularizedOTProblem(gamma, n, C, p, q)\n",
    "        x, history = PrimalDualAAMLS(eps / 3, log=True).fit(eucl_reg)\n",
    "        with open(f\"reports/euclidean_regularized/pdaam-ls_{eps}.pkl\", \"wb\") as f:\n",
    "            pickle.dump(history, f)"
   ]
  },
  {
   "cell_type": "markdown",
   "id": "87111c57",
   "metadata": {},
   "source": [
    "# PDAAM"
   ]
  },
  {
   "cell_type": "code",
   "execution_count": null,
   "id": "a480d8c0",
   "metadata": {},
   "outputs": [],
   "source": [
    "epslist[4:5]"
   ]
  },
  {
   "cell_type": "code",
   "execution_count": null,
   "id": "aecd3f23",
   "metadata": {},
   "outputs": [],
   "source": [
    "for k in range(1):\n",
    "    for eps in epslist[:1]:\n",
    "        p, q = mnist(eps, p_list[k], q_list[k])\n",
    "        gamma = eps / 3\n",
    "        eucl_reg = EuclideanRegularizedOTProblem(gamma, n, C, p, q)\n",
    "        x, history = PrimalDualAAM(eps / 3, log=True).fit(eucl_reg)\n",
    "        with open(f\"reports/euclidean_regularized/pdaam_{eps}.pkl\", \"wb\") as f:\n",
    "            pickle.dump(history, f)"
   ]
  },
  {
   "cell_type": "markdown",
   "id": "9d51db6e",
   "metadata": {},
   "source": [
    "# CLVR"
   ]
  },
  {
   "cell_type": "code",
   "execution_count": 7,
   "id": "c77d26c1",
   "metadata": {},
   "outputs": [],
   "source": [
    "alpha = 2"
   ]
  },
  {
   "cell_type": "code",
   "execution_count": 11,
   "id": "793d1c34",
   "metadata": {},
   "outputs": [
    {
     "name": "stdout",
     "output_type": "stream",
     "text": [
      "–––––––––––––––––––––––––––––\n",
      "CLVR configuration:\n",
      "alpha = 2\n",
      "epsilon = 0.0006172839506172839\n",
      "–––––––––––––––––––––––––––––\n",
      "\n",
      "– Outer iteration 0: 0.014236 > 0.000617 or 0.194347 > 0.000617\n",
      "– Outer iteration 200: 0.150786 > 0.000617 or 39.833843 > 0.000617\n",
      "– Outer iteration 400: 0.118084 > 0.000617 or 0.000390 > 0.000617\n",
      "– Outer iteration 600: 0.118727 > 0.000617 or 1.048332 > 0.000617\n",
      "– Outer iteration 800: 0.117519 > 0.000617 or 182.753281 > 0.000617\n",
      "– Outer iteration 1000: 0.109845 > 0.000617 or 115.716605 > 0.000617\n",
      "– Outer iteration 1200: 0.102621 > 0.000617 or 18.826074 > 0.000617\n",
      "– Outer iteration 1400: 0.099510 > 0.000617 or 183.171381 > 0.000617\n",
      "– Outer iteration 1600: 0.092266 > 0.000617 or 362.739469 > 0.000617\n",
      "– Outer iteration 1800: 0.085902 > 0.000617 or 187.805591 > 0.000617\n",
      "– Outer iteration 2000: 0.083911 > 0.000617 or 240.449721 > 0.000617\n",
      "– Outer iteration 2200: 0.081314 > 0.000617 or 360.344792 > 0.000617\n",
      "– Outer iteration 2400: 0.078430 > 0.000617 or 274.806492 > 0.000617\n",
      "– Outer iteration 2600: 0.075381 > 0.000617 or 273.864301 > 0.000617\n",
      "– Outer iteration 2800: 0.072747 > 0.000617 or 396.475844 > 0.000617\n",
      "– Outer iteration 3000: 0.070173 > 0.000617 or 320.247596 > 0.000617\n",
      "– Outer iteration 3200: 0.068120 > 0.000617 or 357.768633 > 0.000617\n",
      "– Outer iteration 3400: 0.065944 > 0.000617 or 350.442910 > 0.000617\n",
      "– Outer iteration 3600: 0.064359 > 0.000617 or 394.510544 > 0.000617\n",
      "– Outer iteration 3800: 0.063104 > 0.000617 or 439.990306 > 0.000617\n",
      "– Outer iteration 4000: 0.061740 > 0.000617 or 425.934704 > 0.000617\n",
      "– Outer iteration 4200: 0.061004 > 0.000617 or 493.712328 > 0.000617\n",
      "– Outer iteration 4400: 0.059246 > 0.000617 or 523.906582 > 0.000617\n",
      "– Outer iteration 4600: 0.057283 > 0.000617 or 435.963902 > 0.000617\n",
      "– Outer iteration 4800: 0.056728 > 0.000617 or 603.066666 > 0.000617\n",
      "– Outer iteration 5000: 0.055861 > 0.000617 or 763.382220 > 0.000617\n",
      "– Outer iteration 5200: 0.054856 > 0.000617 or 712.022984 > 0.000617\n",
      "– Outer iteration 5400: 0.053143 > 0.000617 or 499.255864 > 0.000617\n",
      "– Outer iteration 5600: 0.052435 > 0.000617 or 527.705436 > 0.000617\n",
      "– Outer iteration 5800: 0.051623 > 0.000617 or 645.266988 > 0.000617\n",
      "– Outer iteration 6000: 0.050235 > 0.000617 or 468.369828 > 0.000617\n",
      "– Outer iteration 6200: 0.049077 > 0.000617 or 452.648922 > 0.000617\n",
      "– Outer iteration 6400: 0.048553 > 0.000617 or 627.666700 > 0.000617\n",
      "– Outer iteration 6600: 0.047586 > 0.000617 or 656.378499 > 0.000617\n",
      "– Outer iteration 6800: 0.046952 > 0.000617 or 777.819993 > 0.000617\n",
      "– Outer iteration 7000: 0.046256 > 0.000617 or 777.844552 > 0.000617\n",
      "– Outer iteration 7200: 0.045503 > 0.000617 or 876.244611 > 0.000617\n",
      "– Outer iteration 7400: 0.044628 > 0.000617 or 760.413098 > 0.000617\n",
      "– Outer iteration 7600: 0.044008 > 0.000617 or 575.189130 > 0.000617\n",
      "– Outer iteration 7800: 0.043473 > 0.000617 or 683.189577 > 0.000617\n",
      "– Outer iteration 8000: 0.042502 > 0.000617 or 748.936210 > 0.000617\n",
      "– Outer iteration 8200: 0.042101 > 0.000617 or 864.182969 > 0.000617\n",
      "– Outer iteration 8400: 0.041370 > 0.000617 or 647.697723 > 0.000617\n",
      "– Outer iteration 8600: 0.040514 > 0.000617 or 590.947849 > 0.000617\n",
      "– Outer iteration 8800: 0.040194 > 0.000617 or 585.682816 > 0.000617\n",
      "– Outer iteration 9000: 0.039913 > 0.000617 or 832.381721 > 0.000617\n",
      "– Outer iteration 9200: 0.039278 > 0.000617 or 957.582310 > 0.000617\n",
      "– Outer iteration 9400: 0.038731 > 0.000617 or 692.324416 > 0.000617\n",
      "– Outer iteration 9600: 0.038214 > 0.000617 or 608.550296 > 0.000617\n",
      "– Outer iteration 9800: 0.037718 > 0.000617 or 528.855503 > 0.000617\n",
      "– Outer iteration 10000: 0.037160 > 0.000617 or 443.290440 > 0.000617\n",
      "– Outer iteration 10000: 0.037160 <= 0.000617 or 443.290440 <= 0.000617\n",
      "–––––––––––––––––––––––––––––\n",
      "CLVR configuration:\n",
      "alpha = 2\n",
      "epsilon = 0.0001658374792703151\n",
      "–––––––––––––––––––––––––––––\n",
      "\n",
      "– Outer iteration 0: 0.014200 > 0.000166 or 0.203781 > 0.000166\n",
      "– Outer iteration 200: 0.150905 > 0.000166 or 154.069487 > 0.000166\n",
      "– Outer iteration 400: 0.118081 > 0.000166 or 0.006835 > 0.000166\n",
      "– Outer iteration 600: 0.118799 > 0.000166 or 2.277344 > 0.000166\n",
      "– Outer iteration 800: 0.117627 > 0.000166 or 542.024459 > 0.000166\n",
      "– Outer iteration 1000: 0.111301 > 0.000166 or 538.785734 > 0.000166\n",
      "– Outer iteration 1200: 0.104148 > 0.000166 or 76.690268 > 0.000166\n",
      "– Outer iteration 1400: 0.100603 > 0.000166 or 601.032916 > 0.000166\n",
      "– Outer iteration 1600: 0.093870 > 0.000166 or 1312.173483 > 0.000166\n",
      "– Outer iteration 1800: 0.086953 > 0.000166 or 635.902335 > 0.000166\n",
      "– Outer iteration 2000: 0.084893 > 0.000166 or 902.855209 > 0.000166\n",
      "– Outer iteration 2200: 0.082618 > 0.000166 or 1507.729187 > 0.000166\n",
      "– Outer iteration 2400: 0.078836 > 0.000166 or 1151.562437 > 0.000166\n",
      "– Outer iteration 2600: 0.075431 > 0.000166 or 1172.610023 > 0.000166\n",
      "– Outer iteration 2800: 0.073615 > 0.000166 or 1365.412959 > 0.000166\n",
      "– Outer iteration 3000: 0.070658 > 0.000166 or 1359.994152 > 0.000166\n",
      "– Outer iteration 3200: 0.068766 > 0.000166 or 1265.526869 > 0.000166\n",
      "– Outer iteration 3400: 0.066740 > 0.000166 or 1713.035975 > 0.000166\n",
      "– Outer iteration 3600: 0.064973 > 0.000166 or 1590.224008 > 0.000166\n",
      "– Outer iteration 3800: 0.063351 > 0.000166 or 1104.226466 > 0.000166\n",
      "– Outer iteration 4000: 0.061817 > 0.000166 or 1698.498441 > 0.000166\n",
      "– Outer iteration 4200: 0.060685 > 0.000166 or 2750.533534 > 0.000166\n",
      "– Outer iteration 4400: 0.059284 > 0.000166 or 1748.355230 > 0.000166\n",
      "– Outer iteration 4600: 0.057797 > 0.000166 or 1965.384664 > 0.000166\n",
      "– Outer iteration 4800: 0.056709 > 0.000166 or 2408.318531 > 0.000166\n",
      "– Outer iteration 5000: 0.055355 > 0.000166 or 2145.350037 > 0.000166\n",
      "– Outer iteration 5200: 0.054379 > 0.000166 or 2393.464865 > 0.000166\n",
      "– Outer iteration 5400: 0.053652 > 0.000166 or 2466.585957 > 0.000166\n",
      "– Outer iteration 5600: 0.052687 > 0.000166 or 2096.121878 > 0.000166\n",
      "– Outer iteration 5800: 0.051576 > 0.000166 or 1934.348377 > 0.000166\n",
      "– Outer iteration 6000: 0.050916 > 0.000166 or 2481.701643 > 0.000166\n",
      "– Outer iteration 6200: 0.049562 > 0.000166 or 2513.089835 > 0.000166\n",
      "– Outer iteration 6400: 0.049022 > 0.000166 or 2036.838332 > 0.000166\n",
      "– Outer iteration 6600: 0.048176 > 0.000166 or 2108.961116 > 0.000166\n",
      "– Outer iteration 6800: 0.047335 > 0.000166 or 2915.479921 > 0.000166\n",
      "– Outer iteration 7000: 0.046456 > 0.000166 or 2039.369542 > 0.000166\n",
      "– Outer iteration 7200: 0.045722 > 0.000166 or 2227.881279 > 0.000166\n",
      "– Outer iteration 7400: 0.044767 > 0.000166 or 2919.383044 > 0.000166\n",
      "– Outer iteration 7600: 0.044107 > 0.000166 or 1999.549792 > 0.000166\n",
      "– Outer iteration 7800: 0.043378 > 0.000166 or 1931.984876 > 0.000166\n",
      "– Outer iteration 8000: 0.042804 > 0.000166 or 2348.662692 > 0.000166\n",
      "– Outer iteration 8200: 0.042023 > 0.000166 or 2452.835234 > 0.000166\n",
      "– Outer iteration 8400: 0.041440 > 0.000166 or 2840.103459 > 0.000166\n",
      "– Outer iteration 8600: 0.041241 > 0.000166 or 3119.898500 > 0.000166\n",
      "– Outer iteration 8800: 0.040451 > 0.000166 or 2841.559003 > 0.000166\n",
      "– Outer iteration 9000: 0.039615 > 0.000166 or 2329.762509 > 0.000166\n",
      "– Outer iteration 9200: 0.039326 > 0.000166 or 1655.303287 > 0.000166\n",
      "– Outer iteration 9400: 0.038893 > 0.000166 or 1889.458219 > 0.000166\n",
      "– Outer iteration 9600: 0.038396 > 0.000166 or 2236.809613 > 0.000166\n",
      "– Outer iteration 9800: 0.037883 > 0.000166 or 2351.841570 > 0.000166\n",
      "– Outer iteration 10000: 0.037760 > 0.000166 or 2612.722826 > 0.000166\n",
      "– Outer iteration 10000: 0.037760 <= 0.000166 or 2612.722826 <= 0.000166\n"
     ]
    }
   ],
   "source": [
    "for k in range(1):\n",
    "    for eps in chosen_epslist[1:]:#epslist[:1]:\n",
    "        p, q = mnist(eps, p_list[k], q_list[k])\n",
    "        gamma = eps / 3\n",
    "        eucl_reg = EuclideanRegularizedOTProblem(gamma, n, C, p, q)\n",
    "        x, history = CLVR(alpha, eps / 3, log=True).fit(eucl_reg, max_iter=10000)\n",
    "        with open(f\"reports/euclidean_regularized/clvr_{eps}.pkl\", \"wb\") as f:\n",
    "            pickle.dump(history, f)"
   ]
  },
  {
   "cell_type": "code",
   "execution_count": null,
   "id": "e63f0c0f",
   "metadata": {},
   "outputs": [],
   "source": []
  }
 ],
 "metadata": {
  "kernelspec": {
   "display_name": "Python 3 (ipykernel)",
   "language": "python",
   "name": "python3"
  },
  "language_info": {
   "codemirror_mode": {
    "name": "ipython",
    "version": 3
   },
   "file_extension": ".py",
   "mimetype": "text/x-python",
   "name": "python",
   "nbconvert_exporter": "python",
   "pygments_lexer": "ipython3",
   "version": "3.9.6"
  }
 },
 "nbformat": 4,
 "nbformat_minor": 5
}
